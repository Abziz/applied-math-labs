{
 "cells": [
  {
   "cell_type": "markdown",
   "metadata": {},
   "source": [
    "# Applied Math Lab 11 - Fourier Series"
   ]
  },
  {
   "cell_type": "markdown",
   "metadata": {},
   "source": [
    "## Fourier series for a Sqaure Wave"
   ]
  },
  {
   "cell_type": "markdown",
   "metadata": {},
   "source": [
    "Consider the following periodic function of alternating values between $1$ and $-1$"
   ]
  },
  {
   "cell_type": "markdown",
   "metadata": {},
   "source": [
    "![](signal-square-wave-01.svg)"
   ]
  },
  {
   "cell_type": "markdown",
   "metadata": {},
   "source": [
    "Assume a single period is between $-\\pi$ and $\\pi$"
   ]
  },
  {
   "cell_type": "markdown",
   "metadata": {},
   "source": [
    "$f(x)=\\left\\{\\begin{array}{lr} 1 & : 0 \\leq x < \\pi \\\\ -1 & : -\\pi <x<0 \\end{array}\\right\\}$"
   ]
  },
  {
   "cell_type": "markdown",
   "metadata": {},
   "source": [
    "The fourier series for this function looks like this:"
   ]
  },
  {
   "cell_type": "markdown",
   "metadata": {},
   "source": [
    " $\\sum\\limits_{n={1,3,5...}}^\\inf \\dfrac{4}{\\pi n} sin(nx)$"
   ]
  },
  {
   "cell_type": "markdown",
   "metadata": {},
   "source": [
    "We can see that the sum is a sum of sine waves.  We can think of a sine wave as the distance traveled by the point rotating around a circle. In this case, adding more terms means turning circles with smaller radius around the previous circle (term)."
   ]
  },
  {
   "cell_type": "markdown",
   "metadata": {},
   "source": [
    "![](Fourier_series_square_wave_circles_animation.gif) "
   ]
  },
  {
   "cell_type": "markdown",
   "metadata": {},
   "source": [
    "## drawing circles and lines"
   ]
  },
  {
   "cell_type": "markdown",
   "metadata": {},
   "source": [
    "The following code shows how to draw an animation of the first term (circle)"
   ]
  },
  {
   "cell_type": "code",
   "execution_count": 2,
   "metadata": {},
   "outputs": [],
   "source": [
    "import numpy as  np\n",
    "import matplotlib.pyplot as plt\n",
    "from matplotlib import animation"
   ]
  },
  {
   "cell_type": "markdown",
   "metadata": {},
   "source": [
    "First we get a figure and an axis and make it look nice"
   ]
  },
  {
   "cell_type": "code",
   "execution_count": 3,
   "metadata": {},
   "outputs": [
    {
     "data": {
      "image/png": "[encoded data removed]",
      "text/plain": [
       "<Figure size 432x288 with 1 Axes>"
      ]
     },
     "metadata": {
      "needs_background": "light"
     },
     "output_type": "display_data"
    }
   ],
   "source": [
    "# create a figure\n",
    "fig = plt.figure()  # type: plt.Figure\n",
    "# get the axis on which we draw on\n",
    "ax = fig.gca()  # type: plt.Axes\n",
    "# set the axis limits to be nice and tidy\n",
    "ax.set_xlim(-np.pi, 3 * np.pi)\n",
    "ax.set_ylim(-2, 2)\n",
    "# prevent our drawing from looking squishy\n",
    "ax.set_aspect('equal')"
   ]
  },
  {
   "cell_type": "markdown",
   "metadata": {},
   "source": [
    "The first term $\\dfrac{4}{\\pi}sin(\\theta)$ is a circle with radius $\\dfrac{4}{\\pi}$. We can draw a circle using `plt.Circle(...)` and add it to our plot using `ax.add_artist(...)`.  \n",
    "The center of the circle will be `(0,0)`  \n",
    "The radius will be $\\dfrac{4}{\\pi}$  \n",
    "also it should have no fill"
   ]
  },
  {
   "cell_type": "code",
   "execution_count": 18,
   "metadata": {},
   "outputs": [
    {
     "data": {
      "image/png": "[encoded data removed]",
      "text/plain": [
       "<Figure size 432x288 with 1 Axes>"
      ]
     },
     "execution_count": 18,
     "metadata": {},
     "output_type": "execute_result"
    }
   ],
   "source": [
    "# ----------------- continuation of the previous code  ---------- #\n",
    "circle = plt.Circle((0,0),4/np.pi,fill=0)\n",
    "ax.add_artist(circle)\n",
    "fig # show the plot again for jupyter (not needed in pycharm)"
   ]
  },
  {
   "cell_type": "markdown",
   "metadata": {},
   "source": [
    "Next, we want to draw a radius from the center of the circle `(0,0)` with angle `0`"
   ]
  },
  {
   "cell_type": "code",
   "execution_count": 20,
   "metadata": {},
   "outputs": [
    {
     "data": {
      "image/png": "[encoded data removed]",
      "text/plain": [
       "<Figure size 432x288 with 1 Axes>"
      ]
     },
     "execution_count": 20,
     "metadata": {},
     "output_type": "execute_result"
    }
   ],
   "source": [
    "line = plt.Line2D([0,circle.radius],[0,0])\n",
    "ax.add_artist(line)\n",
    "fig # show the plot again for jupyter (not needed in pycharm)"
   ]
  },
  {
   "cell_type": "markdown",
   "metadata": {},
   "source": [
    "We can now rotate the radius of the circle around by setting calculating a different angle  \n",
    "We can use matplotlib's animation to do this."
   ]
  },
  {
   "cell_type": "code",
   "execution_count": 26,
   "metadata": {},
   "outputs": [],
   "source": [
    "steps = 20\n",
    "angles = np.linspace(0,2*np.pi,steps)\n",
    "\n",
    "def update(frame):\n",
    "    t = angles[frame] # get the angle\n",
    "    cx,cy = circle.center\n",
    "    r = circle.radius\n",
    "    new_x = r * np.cos(t) # cartesian to polar\n",
    "    new_y = r * np.sin(t) # cartesian to polar\n",
    "    line.set_data([cx,new_x],[cy,new_y])\n",
    "    return\n",
    "\n",
    "anim = animation.FuncAnimation(fig,update,frames=steps,interval=100)\n",
    "plt.show()"
   ]
  },
  {
   "cell_type": "markdown",
   "metadata": {},
   "source": [
    "It should look like this:"
   ]
  },
  {
   "cell_type": "markdown",
   "metadata": {},
   "source": [
    "![](one-term-anim.gif)"
   ]
  },
  {
   "cell_type": "markdown",
   "metadata": {},
   "source": [
    "Now we can add a pin that will be our drawing pencil"
   ]
  },
  {
   "cell_type": "code",
   "execution_count": 29,
   "metadata": {},
   "outputs": [],
   "source": [
    "# ==== added code below  ==== #\n",
    "pencil = plt.Line2D([],[]) # just empty line for now, will update later\n",
    "ax.add_artist(pencil)\n",
    "# ==== added code above  ==== #\n",
    "steps = 20\n",
    "angles = np.linspace(0,2*np.pi,steps)\n",
    "\n",
    "def update(frame):\n",
    "    t = angles[frame] # get the angle\n",
    "    cx,cy = circle.center\n",
    "    r = circle.radius\n",
    "    new_x = r * np.cos(t) # cartesian to polar\n",
    "    new_y = r * np.sin(t) # cartesian to polar\n",
    "    line.set_data([cx,new_x],[cy,new_y]) \n",
    "    # ==== added code below  ==== #\n",
    "    pencil.set_data([new_x,np.pi],[new_y,new_y]) # pi was chosen arbitrarily\n",
    "    # ==== added code above  ==== #\n",
    "    return\n",
    "\n",
    "anim = animation.FuncAnimation(fig,update,frames=steps,interval=100)\n",
    "plt.show()"
   ]
  },
  {
   "cell_type": "markdown",
   "metadata": {},
   "source": [
    "It should look like this:"
   ]
  },
  {
   "cell_type": "markdown",
   "metadata": {},
   "source": [
    "![](one-term-pencil-anim.gif)"
   ]
  },
  {
   "cell_type": "markdown",
   "metadata": {},
   "source": [
    "for the last step we can add the actual wave using the point's path"
   ]
  },
  {
   "cell_type": "code",
   "execution_count": 32,
   "metadata": {},
   "outputs": [],
   "source": [
    "pencil = plt.Line2D([],[]) # just empty line for now, will update later\n",
    "ax.add_artist(pencil)\n",
    "steps = 20\n",
    "# ==== added code below  ==== #\n",
    "wave_x = np.linspace(np.pi, 3*np.pi, steps)\n",
    "wave_y = np.zeros(200)\n",
    "wave = plt.Line2D(wave_x,wave_y)\n",
    "ax.add_artist(wave)\n",
    "# ==== added code above  ==== #\n",
    "angles = np.linspace(0,2*np.pi,steps)\n",
    "\n",
    "def update(frame):\n",
    "    t = angles[frame] # get the angle\n",
    "    cx,cy = circle.center\n",
    "    r = circle.radius\n",
    "    new_x = r * np.cos(t) # cartesian to polar\n",
    "    new_y = r * np.sin(t) # cartesian to polar\n",
    "    line.set_data([cx,new_x],[cy,new_y]) \n",
    "    pencil.set_data([new_x,np.pi],[new_y,new_y]) # pi was chosen arbitrarily\n",
    "    # ==== added code below  ==== #\n",
    "        # x axis stays the same, y axis should be updated with new_y\n",
    "        # we first need to shift all values to the right\n",
    "    wave_y[1:] = wave_y[:-1] # copy every element to the right\n",
    "    wave_y[0] = new_y # add the latest point\n",
    "    wave.set_ydata(wave_y)\n",
    "    # ==== added code above  ==== #\n",
    "    return\n",
    "\n",
    "anim = animation.FuncAnimation(fig,update,frames=steps,interval=100)\n",
    "plt.show()"
   ]
  },
  {
   "cell_type": "markdown",
   "metadata": {},
   "source": [
    "It should look something like this:"
   ]
  },
  {
   "cell_type": "markdown",
   "metadata": {},
   "source": [
    "![](one-term-wave-bad.gif)"
   ]
  },
  {
   "cell_type": "markdown",
   "metadata": {},
   "source": [
    "We have two problems here:  \n",
    "1. our angle is hitting $0$ and $2\\pi$, which means it hits 0 twice\n",
    "2. `funcAnimation` usually needs an init function to run before the animation.  \n",
    "    since we didnt give it any, it calls our `update` function instead with `frame = 0` so we have an extra call to `update` \n",
    "    with frame `0` which means the angle `t` will be `0` as well.\n",
    "\n",
    "We can fix `1` by recalculating the angles properly  \n",
    "We can fix `2` by passing it an empty init function"
   ]
  },
  {
   "cell_type": "code",
   "execution_count": 33,
   "metadata": {},
   "outputs": [],
   "source": [
    "pencil = plt.Line2D([],[]) # just empty line for now, will update later\n",
    "ax.add_artist(pencil)\n",
    "steps = 20\n",
    "wave_x = np.linspace(np.pi, 3*np.pi, steps)\n",
    "wave_y = np.zeros(200)\n",
    "wave = plt.Line2D(wave_x,wave_y)\n",
    "ax.add_artist(wave)\n",
    "\n",
    "# ==== updated code below  ==== #\n",
    "# calculate steps + 1  values and remove the last value\n",
    "angles = np.linspace(0,2*np.pi,steps + 1)[:steps]\n",
    "# ==== updated code above  ==== #\n",
    "def update(frame):\n",
    "    t = angles[frame] # get the angle\n",
    "    cx,cy = circle.center\n",
    "    r = circle.radius\n",
    "    new_x = r * np.cos(t) # cartesian to polar\n",
    "    new_y = r * np.sin(t) # cartesian to polar\n",
    "    line.set_data([cx,new_x],[cy,new_y]) \n",
    "    pencil.set_data([new_x,np.pi],[new_y,new_y]) # pi was chosen arbitrarily\n",
    "    # x axis stays the same, y axis should be updated with new_y\n",
    "    # we first need to shift all values to the right\n",
    "    wave_y[1:] = wave_y[:-1] # copy every element to the right\n",
    "    wave_y[0] = new_y # add the latest point\n",
    "    wave.set_ydata(wave_y)\n",
    "    return\n",
    "# ==== updated code below  ==== #\n",
    "# pass an empty lambda function as init_func\n",
    "anim = animation.FuncAnimation(fig,update,init_func=lambda:None,frames=steps,interval=100)\n",
    "# ==== updated code above  ==== #\n",
    "plt.show()"
   ]
  },
  {
   "cell_type": "markdown",
   "metadata": {},
   "source": [
    "It should now look like this:"
   ]
  },
  {
   "cell_type": "markdown",
   "metadata": {},
   "source": [
    "![](one-term-wave-good.gif)"
   ]
  },
  {
   "cell_type": "markdown",
   "metadata": {},
   "source": [
    "The whole code should look like this:"
   ]
  },
  {
   "cell_type": "code",
   "execution_count": 34,
   "metadata": {},
   "outputs": [],
   "source": [
    "def square_wave():\n",
    "    fig = plt.figure()  # type: plt.Figure\n",
    "    ax = fig.gca()  # type: plt.Axes\n",
    "    ax.set_xlim(-np.pi, 3 * np.pi)\n",
    "    ax.set_ylim(-2, 2)\n",
    "    ax.set_aspect('equal')\n",
    "    circle = plt.Circle((0, 0), 4 / np.pi, fill=0)\n",
    "    ax.add_artist(circle)\n",
    "    line = plt.Line2D([0, circle.radius], [0, 0])\n",
    "    ax.add_artist(line)\n",
    "    pencil = plt.Line2D([], [])\n",
    "    ax.add_artist(pencil)\n",
    "    steps = 20\n",
    "    wave_x = np.linspace(np.pi, 3 * np.pi, steps)\n",
    "    wave_y = np.zeros(steps)\n",
    "    wave = plt.Line2D(wave_x, wave_y)\n",
    "    ax.add_artist(wave)\n",
    "    angles = np.linspace(0, 2 * np.pi, steps + 1)[:steps]\n",
    "    def update(frame):\n",
    "        t = angles[frame]  # get the angle\n",
    "        cx, cy = circle.center\n",
    "        r = circle.radius\n",
    "        new_x = r * np.cos(t)  # cartesian to polar\n",
    "        new_y = r * np.sin(t)  # cartesian to polar\n",
    "        line.set_data([cx, new_x], [cy, new_y])\n",
    "        pencil.set_data([new_x, np.pi], [new_y, new_y])  # pi was chosen arbitrarily\n",
    "        wave_y[1:] = wave_y[:-1]  # copy every element to the right\n",
    "        wave_y[0] = new_y  # add the latest point\n",
    "        wave.set_ydata(wave_y)\n",
    "        return\n",
    "    \n",
    "    anim = animation.FuncAnimation(fig, update, init_func=lambda: None, frames=steps, interval=100)\n",
    "    plt.show()\n"
   ]
  },
  {
   "cell_type": "markdown",
   "metadata": {},
   "source": [
    "## Addding the second term"
   ]
  },
  {
   "cell_type": "markdown",
   "metadata": {},
   "source": [
    "Adding another term means adding a new circle and the center of this circle should be on the previous circle's radius end.  \n",
    "since the second term is $\\dfrac{4}{3\\pi}sin(3\\theta)$, we need to create a new circle with radius $\\dfrac{4}{3\\pi}$."
   ]
  },
  {
   "cell_type": "code",
   "execution_count": 35,
   "metadata": {},
   "outputs": [],
   "source": [
    "def square_wave():\n",
    "    fig = plt.figure()  # type: plt.Figure\n",
    "    ax = fig.gca()  # type: plt.Axes\n",
    "    ax.set_xlim(-np.pi, 3 * np.pi)\n",
    "    ax.set_ylim(-2, 2)\n",
    "    ax.set_aspect('equal')\n",
    "    circle = plt.Circle((0, 0), 4 / np.pi, fill=0)\n",
    "    ax.add_artist(circle)\n",
    "    line = plt.Line2D([0, circle.radius], [0, 0])\n",
    "    ax.add_artist(line)\n",
    "    # ==== added code below  ==== #\n",
    "    circle2 = plt.Circle((circle.radius,0),4 / (3 * np.pi),fill=0)\n",
    "    ax.add_artist(circle2)\n",
    "    line2 = plt.Line2D([circle.radius, circle.radius + circle2.radius], [0, 0])\n",
    "    ax.add_artist(line2)\n",
    "    # ==== added code above  ==== #\n",
    "    pencil = plt.Line2D([], [])\n",
    "    ax.add_artist(pencil)\n",
    "    # ==== updated code below  ==== #\n",
    "    # added more steps\n",
    "    steps = 50\n",
    "    # ==== updated code above  ==== #\n",
    "    wave_x = np.linspace(np.pi, 3 * np.pi, steps)\n",
    "    wave_y = np.zeros(steps)\n",
    "    wave = plt.Line2D(wave_x, wave_y)\n",
    "    ax.add_artist(wave)\n",
    "    angles = np.linspace(0, 2 * np.pi, steps + 1)[:steps]\n",
    "    def update(frame):\n",
    "        t = angles[frame]  # get the angle\n",
    "        cx, cy = circle.center\n",
    "        r = circle.radius\n",
    "        new_x = r * np.cos(t)  # cartesian to polar\n",
    "        new_y = r * np.sin(t)  # cartesian to polar\n",
    "        line.set_data([cx, new_x], [cy, new_y])\n",
    "        # ==== added code below  ==== #\n",
    "        circle2.set_center((new_x, new_y)) # update the center of circle2\n",
    "        \n",
    "        # calculate line2 position with respect to the new center of circle 2\n",
    "        r2 = circle2.radius \n",
    "        new_x2 = new_x + r2 * np.cos(3 * t) # cartesian to ploar for 2nd term \n",
    "        new_y2 = new_y + r2 * np.sin(3 * t) # cartesian to ploar for 2nd term\n",
    "        line2.set_data([new_x, new_x2], [new_y, new_y2]) # calculate the radius line of circle2\n",
    "        # ==== added code above  ==== #\n",
    "        \n",
    "        \n",
    "        # ==== updated code below  ==== #\n",
    "        # use the last circle to draw the line\n",
    "        pencil.set_data([new_x2, np.pi], [new_y2, new_y2])\n",
    "        wave_y[1:] = wave_y[:-1]  # copy every element to the right\n",
    "        wave_y[0] = new_y2  # add the latest point\n",
    "        # ==== updated code above  ==== #\n",
    "        wave.set_ydata(wave_y)\n",
    "        return\n",
    "    \n",
    "    anim = animation.FuncAnimation(fig, update, init_func=lambda: None, frames=steps, interval=100)\n",
    "    plt.show()"
   ]
  },
  {
   "cell_type": "markdown",
   "metadata": {},
   "source": [
    "It should look something like this:"
   ]
  },
  {
   "cell_type": "markdown",
   "metadata": {},
   "source": [
    "![](two-term-wave-good.gif)"
   ]
  }
 ],
 "metadata": {
  "kernelspec": {
   "display_name": "Python 3",
   "language": "python",
   "name": "python3"
  },
  "language_info": {
   "codemirror_mode": {
    "name": "ipython",
    "version": 3
   },
   "file_extension": ".py",
   "mimetype": "text/x-python",
   "name": "python",
   "nbconvert_exporter": "python",
   "pygments_lexer": "ipython3",
   "version": "3.8.3"
  }
 },
 "nbformat": 4,
 "nbformat_minor": 4
}
