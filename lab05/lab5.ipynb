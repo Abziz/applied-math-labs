{
 "cells": [
  {
   "cell_type": "markdown",
   "metadata": {},
   "source": [
    "# Applied Math - Lab 5"
   ]
  },
  {
   "cell_type": "code",
   "execution_count": 1,
   "metadata": {},
   "outputs": [],
   "source": [
    "%config InteractiveShell.ast_node_interactivity='last_expr_or_assign'\n",
    "import numpy as np"
   ]
  },
  {
   "cell_type": "markdown",
   "metadata": {},
   "source": [
    "### Saving and Loading numpy array as a readable format\n",
    "Numpy allows us to save array data into files in a readable manner. We can load these files later on any machine that have numpy installed."
   ]
  },
  {
   "cell_type": "markdown",
   "metadata": {},
   "source": [
    "#### Saving a numpy array as a readable file\n",
    "We can use `np.savetxt(filename:string,X:ndarray)` to save a numpy array `X` to a file named `filename`.  \n",
    "Example:"
   ]
  },
  {
   "cell_type": "code",
   "execution_count": 2,
   "metadata": {},
   "outputs": [
    {
     "data": {
      "text/plain": [
       "array([0.31120288+0.677519j  , 0.60311855+0.42241218j,\n",
       "       0.16199529+0.77250865j, 0.79753476+0.60453933j,\n",
       "       0.57783434+0.45461151j, 0.08848736+0.10813518j,\n",
       "       0.81334876+0.41045214j, 0.32901186+0.47738241j,\n",
       "       0.00224421+0.8451449j , 0.98948134+0.64107645j])"
      ]
     },
     "execution_count": 2,
     "metadata": {},
     "output_type": "execute_result"
    }
   ],
   "source": [
    "Z = np.random.random(10) + np.random.random(10) * 1j"
   ]
  },
  {
   "cell_type": "code",
   "execution_count": 3,
   "metadata": {},
   "outputs": [],
   "source": [
    "np.savetxt('complex_matrix_10x10.txt',Z)"
   ]
  },
  {
   "cell_type": "markdown",
   "metadata": {},
   "source": [
    "#### Loading a numpy array from a readable file\n",
    "We can use `np.loadtxt(filename:string)` to create a numpy array from a file saved with `np.savetxt`.  \n",
    "It assumes the values are of `float` data type.  \n",
    "If the data type is not float, we should specify the data type in the second parameter.  \n",
    "Example:"
   ]
  },
  {
   "cell_type": "code",
   "execution_count": 4,
   "metadata": {},
   "outputs": [
    {
     "data": {
      "text/plain": [
       "array([0.31120288+0.677519j  , 0.60311855+0.42241218j,\n",
       "       0.16199529+0.77250865j, 0.79753476+0.60453933j,\n",
       "       0.57783434+0.45461151j, 0.08848736+0.10813518j,\n",
       "       0.81334876+0.41045214j, 0.32901186+0.47738241j,\n",
       "       0.00224421+0.8451449j , 0.98948134+0.64107645j])"
      ]
     },
     "execution_count": 4,
     "metadata": {},
     "output_type": "execute_result"
    }
   ],
   "source": [
    "my_old_Z = np.loadtxt('complex_matrix_10x10.txt',np.complex)"
   ]
  },
  {
   "cell_type": "markdown",
   "metadata": {},
   "source": [
    "### Saving and Loading numpy array as a binary format\n",
    "Numpy allows us to save array data to files in a compact format. We can later load the file in any machine that has numpy installed"
   ]
  },
  {
   "cell_type": "markdown",
   "metadata": {},
   "source": [
    "#### Saving a numpy array as a binary file\n",
    "We can use `np.save(filename:string,X:ndarray)` to save a numpy array `X` to a file named `\"{filename}.npy\"`.  \n",
    "Example:"
   ]
  },
  {
   "cell_type": "code",
   "execution_count": 5,
   "metadata": {},
   "outputs": [
    {
     "data": {
      "text/plain": [
       "array([[ 0,  1,  2,  3,  4],\n",
       "       [ 5,  6,  7,  8,  9],\n",
       "       [10, 11, 12, 13, 14],\n",
       "       [15, 16, 17, 18, 19],\n",
       "       [20, 21, 22, 23, 24]])"
      ]
     },
     "execution_count": 5,
     "metadata": {},
     "output_type": "execute_result"
    }
   ],
   "source": [
    "A = np.arange(25).reshape(5,5)"
   ]
  },
  {
   "cell_type": "code",
   "execution_count": 6,
   "metadata": {},
   "outputs": [],
   "source": [
    "np.save('cool_matrix_5x5',A)"
   ]
  },
  {
   "cell_type": "markdown",
   "metadata": {},
   "source": [
    "#### Loading a numpy array from a binary file ( with file extention `.npy`)\n",
    "We can use `np.load(filename:string)` to create a numpy array from a file saved with `np.save`.  \n",
    "unlike `np.loadtxt`, this function can get the data type of the array inside the file, making it the best way to save and load array data.  \n",
    "Example:"
   ]
  },
  {
   "cell_type": "code",
   "execution_count": 7,
   "metadata": {
    "scrolled": true
   },
   "outputs": [
    {
     "data": {
      "text/plain": [
       "array([[ 0,  1,  2,  3,  4],\n",
       "       [ 5,  6,  7,  8,  9],\n",
       "       [10, 11, 12, 13, 14],\n",
       "       [15, 16, 17, 18, 19],\n",
       "       [20, 21, 22, 23, 24]])"
      ]
     },
     "execution_count": 7,
     "metadata": {},
     "output_type": "execute_result"
    }
   ],
   "source": [
    "my_oldA = np.load('cool_matrix_5x5.npy')"
   ]
  }
 ],
 "metadata": {
  "kernelspec": {
   "display_name": "Python 3",
   "language": "python",
   "name": "python3"
  },
  "language_info": {
   "codemirror_mode": {
    "name": "ipython",
    "version": 3
   },
   "file_extension": ".py",
   "mimetype": "text/x-python",
   "name": "python",
   "nbconvert_exporter": "python",
   "pygments_lexer": "ipython3",
   "version": "3.8.3"
  }
 },
 "nbformat": 4,
 "nbformat_minor": 4
}
