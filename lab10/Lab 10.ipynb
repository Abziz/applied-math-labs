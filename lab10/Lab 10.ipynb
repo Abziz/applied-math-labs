{
 "cells": [
  {
   "cell_type": "markdown",
   "metadata": {},
   "source": [
    "# Applied Math - Lab 10 - FuncAnimation"
   ]
  },
  {
   "cell_type": "code",
   "execution_count": 1,
   "metadata": {},
   "outputs": [],
   "source": [
    "import numpy as np\n",
    "import matplotlib.pyplot as plt"
   ]
  },
  {
   "cell_type": "markdown",
   "metadata": {},
   "source": [
    "## Animation using `plt.clf()` and `plt.pause(...)`"
   ]
  },
  {
   "cell_type": "markdown",
   "metadata": {},
   "source": [
    "The way we used to animate our plots so far was by clearing a plot and redrawing the whole plot. This approach is very wasteful. and there is a way to do it efficiently and usually achieve a higher frame rate for the animation."
   ]
  },
  {
   "cell_type": "markdown",
   "metadata": {},
   "source": [
    "Example using `plt.clf()` and `plt.pause()`:"
   ]
  },
  {
   "cell_type": "code",
   "execution_count": 2,
   "metadata": {},
   "outputs": [],
   "source": [
    "def normal():\n",
    "    xx = np.linspace(-5, 5, 100)\n",
    "    angles = np.linspace(-np.pi, np.pi, 60)\n",
    "    for angle in angles: # 60 values of a between -pi and pi\n",
    "        plt.clf()\n",
    "        plt.xlim((-5, 5))\n",
    "        plt.ylim((-1, 1))\n",
    "        plt.plot(xx, np.cos(xx + a), lw=2)\n",
    "        plt.show(block=False)\n",
    "        plt.pause(1 / 30)  # 30 fps (hopefully)\n"
   ]
  },
  {
   "cell_type": "markdown",
   "metadata": {},
   "source": [
    "## Animation using a `FuncAnimation`"
   ]
  },
  {
   "cell_type": "markdown",
   "metadata": {},
   "source": [
    "matplotlib contains the `animation` module. We can import it to use `animation.FuncAnimation(...)` to create animations based on an update function"
   ]
  },
  {
   "cell_type": "code",
   "execution_count": 3,
   "metadata": {},
   "outputs": [],
   "source": [
    "from matplotlib import animation"
   ]
  },
  {
   "cell_type": "markdown",
   "metadata": {},
   "source": [
    "### [`animation.FuncAnimation`](https://matplotlib.org/api/_as_gen/matplotlib.animation.FuncAnimation.html)"
   ]
  },
  {
   "cell_type": "markdown",
   "metadata": {},
   "source": [
    "`FuncAnimation(figure,update)` creates an animation by accepting a `figure` and an `update` function as required parameters"
   ]
  },
  {
   "cell_type": "markdown",
   "metadata": {},
   "source": [
    "The following is the same plot as above but using `FuncAnimation`:"
   ]
  },
  {
   "cell_type": "code",
   "execution_count": 4,
   "metadata": {},
   "outputs": [],
   "source": [
    "def fanim():\n",
    "    fig = plt.figure() # needed for calling FuncAnimation\n",
    "    xx = np.linspace(-5, 5, 100)\n",
    "    yy = np.cos(xx)\n",
    "    plt.ylim((-1, 1))\n",
    "    plt.xlim((-5, 5))\n",
    "    \n",
    "    # plt.plot returns an iterable (list or tuple) of Line2D objects which is a kind of \"artist\" object\n",
    "    # using the ',' we take only the first element in the returned list\n",
    "    line, = plt.plot(xx, yy, lw=2)\n",
    "    angles = np.linspace(-np.pi, np.pi, 60)\n",
    "    \n",
    "    # declaring a function inside a function (yes python can do that)\n",
    "    def update(frame):\n",
    "        # frame - the frame number that is being rendered currently starting from 0\n",
    "        new_y = np.cos(xx + angles[frame % 60])\n",
    "        \n",
    "        # update only the y values of the plotted line\n",
    "        line.set_ydata(new_y)\n",
    "        \n",
    "        # should return a list of \"artist\" object (comma trick again to make it a tuple)\n",
    "        return line,\n",
    "\n",
    "    # frames - how many frames it calls the update function \n",
    "    # interval - how much time in ms (int) between each call to the update function\n",
    "    anim = animation.FuncAnimation(fig, update, frames=60, interval=1000 // 30)\n",
    "    #finaly show\n",
    "    plt.show()"
   ]
  },
  {
   "cell_type": "markdown",
   "metadata": {},
   "source": [
    "## comparison"
   ]
  },
  {
   "cell_type": "markdown",
   "metadata": {},
   "source": [
    "When the line is simple and does not require much computations it seems like the animations are the same\n",
    "But if we try to make the animations faster with:"
   ]
  },
  {
   "cell_type": "code",
   "execution_count": 5,
   "metadata": {},
   "outputs": [],
   "source": [
    "def normal():\n",
    "    # ... code removed for brevity\n",
    "    \n",
    "        plt.pause(1 / 60)  # 60 fps (probably not)"
   ]
  },
  {
   "cell_type": "code",
   "execution_count": 6,
   "metadata": {},
   "outputs": [],
   "source": [
    "def fanim():\n",
    "    # ... code removed for brevity\n",
    "    anim = animation.FuncAnimation(fig, update, frames=60, interval=1000 // 60) # closer to 60 fps"
   ]
  },
  {
   "cell_type": "markdown",
   "metadata": {},
   "source": [
    "Running both animations will prove that FuncAnimation runs more smoother.  \n",
    "Also when we close the window it stops the animation and the figure won't be open again, which is more convinient.\n"
   ]
  },
  {
   "cell_type": "markdown",
   "metadata": {},
   "source": [
    "## Why bother ?"
   ]
  },
  {
   "cell_type": "markdown",
   "metadata": {},
   "source": [
    "Some times our data isn't just a stupid line. sometimes our data is a large matrix of values (like an image). Doing computations on a large object will create a performance overhead if we use `plt.clf()` and `plt.pause(...)`.\n",
    "Also it is not in the scope of this course, but `FuncAnimation` allows us to save smooth high quality videos of the animations."
   ]
  },
  {
   "cell_type": "code",
   "execution_count": null,
   "metadata": {},
   "outputs": [],
   "source": []
  }
 ],
 "metadata": {
  "kernelspec": {
   "display_name": "Python 3",
   "language": "python",
   "name": "python3"
  },
  "language_info": {
   "codemirror_mode": {
    "name": "ipython",
    "version": 3
   },
   "file_extension": ".py",
   "mimetype": "text/x-python",
   "name": "python",
   "nbconvert_exporter": "python",
   "pygments_lexer": "ipython3",
   "version": "3.8.3"
  }
 },
 "nbformat": 4,
 "nbformat_minor": 4
}
