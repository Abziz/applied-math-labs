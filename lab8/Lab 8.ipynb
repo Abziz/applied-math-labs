{
 "cells": [
  {
   "cell_type": "markdown",
   "metadata": {},
   "source": [
    "# Applied Math - Lab 8 "
   ]
  },
  {
   "cell_type": "code",
   "execution_count": 1,
   "metadata": {},
   "outputs": [],
   "source": [
    "import numpy as np\n",
    "import matplotlib.pyplot as plt"
   ]
  },
  {
   "cell_type": "markdown",
   "metadata": {},
   "source": [
    "## Approximating mathematical functions numerically"
   ]
  },
  {
   "cell_type": "markdown",
   "metadata": {},
   "source": [
    "In other courses we were taught about some approximation methods such as The Mclauren series for example"
   ]
  },
  {
   "cell_type": "markdown",
   "metadata": {},
   "source": [
    "$$e^x=\\sum_{n=0}^\\infty \\frac{1}{n!}x^n$$"
   ]
  },
  {
   "cell_type": "markdown",
   "metadata": {},
   "source": [
    "This is a sum of functions, or specifically polynomials. If we expand it, it would look something like that:\n",
    "$$e^x = \\frac{1}{0!}x^0 + \\frac{1}{1!}x^1 +  \\frac{1}{2!}x^2 + \\frac{1}{3!}x^3 ... $$"
   ]
  },
  {
   "cell_type": "markdown",
   "metadata": {},
   "source": [
    "It would be interesting to see how exactly this summation of functions is approximating $e^x$.  \n",
    "We can write some code that sums up to $m$ terms and plot it."
   ]
  },
  {
   "cell_type": "markdown",
   "metadata": {},
   "source": [
    "### code"
   ]
  },
  {
   "cell_type": "markdown",
   "metadata": {},
   "source": [
    "We start by creating our $x$ values in a specific range"
   ]
  },
  {
   "cell_type": "code",
   "execution_count": 2,
   "metadata": {},
   "outputs": [],
   "source": [
    "x = np.linspace(-10,10,1000)"
   ]
  },
  {
   "cell_type": "markdown",
   "metadata": {},
   "source": [
    "since we're going to sum functions we need to create our $y$ variable that will contain the partial sums of the summation."
   ]
  },
  {
   "cell_type": "code",
   "execution_count": 3,
   "metadata": {},
   "outputs": [],
   "source": [
    "y = np.zeros(x.shape)"
   ]
  },
  {
   "cell_type": "markdown",
   "metadata": {},
   "source": [
    "we continue by doing a for loop from 0 to whatever limit we want, lets say 25  \n",
    "in each iteration we calculate the nth term and add it to our $y$ values, this is how we represent summation of functions"
   ]
  },
  {
   "cell_type": "code",
   "execution_count": 4,
   "metadata": {},
   "outputs": [],
   "source": [
    "for n in range(10):\n",
    "    # get the nth term\n",
    "    a = 1/np.math.factorial(n)\n",
    "    # add it to y values\n",
    "    y+= a * (x**n)"
   ]
  },
  {
   "cell_type": "markdown",
   "metadata": {},
   "source": [
    "That's it, we've calculated the McLauren series up to $n=25$, if we plot the $x$ and $y$ values, we should see something close the the function $e^x$ within the range $[-10,10]$"
   ]
  },
  {
   "cell_type": "code",
   "execution_count": 5,
   "metadata": {},
   "outputs": [
    {
     "data": {
      "text/plain": [
       "[<matplotlib.lines.Line2D at 0x2195eb289d0>]"
      ]
     },
     "execution_count": 5,
     "metadata": {},
     "output_type": "execute_result"
    },
    {
     "data": {
      "image/png": "[encoded data removed]",
      "text/plain": [
       "<Figure size 432x288 with 1 Axes>"
      ]
     },
     "metadata": {
      "needs_background": "light"
     },
     "output_type": "display_data"
    }
   ],
   "source": [
    "plt.plot(x,np.exp(x),color='k',label='original')"
   ]
  },
  {
   "cell_type": "code",
   "execution_count": 6,
   "metadata": {},
   "outputs": [
    {
     "data": {
      "text/plain": [
       "[<matplotlib.lines.Line2D at 0x2195ebc9340>]"
      ]
     },
     "execution_count": 6,
     "metadata": {},
     "output_type": "execute_result"
    },
    {
     "data": {
      "image/png": "[encoded data removed]",
      "text/plain": [
       "<Figure size 432x288 with 1 Axes>"
      ]
     },
     "metadata": {
      "needs_background": "light"
     },
     "output_type": "display_data"
    }
   ],
   "source": [
    "plt.plot(x,y,color='b',label='approximation')"
   ]
  },
  {
   "cell_type": "markdown",
   "metadata": {},
   "source": [
    "Seems close enough, but what happened at the left side of the x axis?"
   ]
  },
  {
   "cell_type": "markdown",
   "metadata": {},
   "source": [
    "We can make a nice animation using this method to plot the result after each iteration"
   ]
  },
  {
   "cell_type": "code",
   "execution_count": null,
   "metadata": {},
   "outputs": [],
   "source": [
    "x = np.linspace(-10, 10, 1000)\n",
    "y = np.zeros(x.shape)\n",
    "for n in range(10):\n",
    "    plt.clf()\n",
    "    a = 1 / np.math.factorial(n)\n",
    "    y += a * (x ** n)\n",
    "    plt.plot(x, np.exp(x), color='k',label='original')\n",
    "    plt.plot(x, y, color='b',label='approximation')\n",
    "    # its a good idea to set the ylim and xlim so it won't explode to hight values\n",
    "    plt.xlim((-10, 10))\n",
    "    plt.ylim((-2, 10))\n",
    "    plt.show(block=False)\n",
    "    plt.pause(0.5)"
   ]
  },
  {
   "cell_type": "markdown",
   "metadata": {},
   "source": [
    "We can do similar thing with fourier series for every function $f(x)$\n",
    "$$f(x)=\\frac{a_0}{2} + \\sum_{n=1}^\\infty a_n cos(nx) + b_n sin(nx)$$"
   ]
  },
  {
   "cell_type": "markdown",
   "metadata": {},
   "source": [
    "Where:\n",
    "$$a_0 = \\frac{1}{\\pi} \\int_{-\\pi}^{\\pi} f(x)dx$$\n",
    "$$a_n = \\frac{1}{\\pi} \\int_{-\\pi}^{\\pi} f(x)cos(nx)dx$$\n",
    "$$b_n = \\frac{1}{\\pi} \\int_{-\\pi}^{\\pi} f(x)sin(nx)dx$$\n"
   ]
  },
  {
   "cell_type": "markdown",
   "metadata": {},
   "source": [
    "We can use numpy's `np.trapz` to calculate a finite integral, for example if we want to find \n",
    "$$\\int_{-\\pi}^{\\pi}x^2$$"
   ]
  },
  {
   "cell_type": "code",
   "execution_count": 7,
   "metadata": {},
   "outputs": [
    {
     "data": {
      "text/plain": [
       "20.67089254470971"
      ]
     },
     "execution_count": 7,
     "metadata": {},
     "output_type": "execute_result"
    }
   ],
   "source": [
    "x = np.linspace(-np.pi, np.pi,1000)\n",
    "y = x**2\n",
    "dx = x[1]-x[0] # dx is the jumps along the x axis\n",
    "np.trapz(y,x,dx)"
   ]
  },
  {
   "cell_type": "markdown",
   "metadata": {},
   "source": [
    "which should be close to $$\\frac{2\\pi^3}{3}$$"
   ]
  },
  {
   "cell_type": "code",
   "execution_count": 8,
   "metadata": {
    "scrolled": true
   },
   "outputs": [
    {
     "name": "stdout",
     "output_type": "stream",
     "text": [
      "20.670851120199877\n"
     ]
    }
   ],
   "source": [
    "print(2*np.pi**3/3)"
   ]
  },
  {
   "cell_type": "code",
   "execution_count": null,
   "metadata": {},
   "outputs": [],
   "source": []
  }
 ],
 "metadata": {
  "kernelspec": {
   "display_name": "Python 3",
   "language": "python",
   "name": "python3"
  },
  "language_info": {
   "codemirror_mode": {
    "name": "ipython",
    "version": 3
   },
   "file_extension": ".py",
   "mimetype": "text/x-python",
   "name": "python",
   "nbconvert_exporter": "python",
   "pygments_lexer": "ipython3",
   "version": "3.8.3"
  }
 },
 "nbformat": 4,
 "nbformat_minor": 4
}
